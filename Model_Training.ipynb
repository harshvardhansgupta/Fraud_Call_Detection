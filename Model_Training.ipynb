{
 "cells": [
  {
   "cell_type": "code",
   "execution_count": 1,
   "metadata": {
    "executionInfo": {
     "elapsed": 2458,
     "status": "ok",
     "timestamp": 1738254127631,
     "user": {
      "displayName": "Harshvardhan Gupta",
      "userId": "10328168051463798203"
     },
     "user_tz": -330
    },
    "id": "7rtY54-ocJjp"
   },
   "outputs": [],
   "source": [
    "# importing all necessary libraries\n",
    "\n",
    "#basic libraries\n",
    "import numpy as np\n",
    "import pandas as pd\n",
    "import csv\n",
    "import matplotlib.pyplot as plt\n",
    "\n",
    "#for dataset processing and encoding\n",
    "from sklearn.model_selection import train_test_split\n",
    "from sklearn.feature_extraction.text import TfidfVectorizer\n",
    "\n",
    "# for training\n",
    "from sklearn.linear_model import LogisticRegression\n",
    "\n",
    "# for metric score\n",
    "from sklearn.metrics import accuracy_score\n",
    "\n",
    "\n",
    "import pickle"
   ]
  },
  {
   "cell_type": "code",
   "execution_count": 2,
   "metadata": {
    "executionInfo": {
     "elapsed": 402,
     "status": "ok",
     "timestamp": 1738254270433,
     "user": {
      "displayName": "Harshvardhan Gupta",
      "userId": "10328168051463798203"
     },
     "user_tz": -330
    },
    "id": "vUVnBho3cZRw"
   },
   "outputs": [],
   "source": [
    "# Data preprocessing\n",
    "\n",
    "file_path = r'main_dataset_fcd.txt'\n",
    "df = pd.read_csv(file_path, sep='\\t', names=['type','clue'], on_bad_lines='skip')\n",
    "df = df[df['type'].isin(['normal', 'fraud'])]\n",
    "df = df.sample(frac=1, random_state=42)"
   ]
  },
  {
   "cell_type": "code",
   "execution_count": 3,
   "metadata": {
    "colab": {
     "base_uri": "https://localhost:8080/",
     "height": 178
    },
    "executionInfo": {
     "elapsed": 430,
     "status": "ok",
     "timestamp": 1738254273117,
     "user": {
      "displayName": "Harshvardhan Gupta",
      "userId": "10328168051463798203"
     },
     "user_tz": -330
    },
    "id": "EOKVGSpt_iS2",
    "outputId": "64632b1e-7dfa-4cd9-bfb5-0014d2cff1d6"
   },
   "outputs": [
    {
     "data": {
      "text/plain": [
       "type\n",
       "normal    5441\n",
       "fraud      848\n",
       "Name: count, dtype: int64"
      ]
     },
     "execution_count": 3,
     "metadata": {},
     "output_type": "execute_result"
    }
   ],
   "source": [
    "df['type'].value_counts()"
   ]
  },
  {
   "cell_type": "code",
   "execution_count": 4,
   "metadata": {
    "colab": {
     "base_uri": "https://localhost:8080/",
     "height": 489
    },
    "executionInfo": {
     "elapsed": 497,
     "status": "ok",
     "timestamp": 1738220398703,
     "user": {
      "displayName": "Hitarth Shah",
      "userId": "18131423035616282836"
     },
     "user_tz": -330
    },
    "id": "2c95WKj4dBCH",
    "outputId": "c366e7f3-9c9f-4fd1-eaca-d2ffcd893fa5"
   },
   "outputs": [
    {
     "data": {
      "text/plain": [
       "Text(0, 0.5, 'count')"
      ]
     },
     "execution_count": 4,
     "metadata": {},
     "output_type": "execute_result"
    },
    {
     "data": {
      "image/png": "[encoded data removed]",
      "text/plain": [
       "<Figure size 640x480 with 1 Axes>"
      ]
     },
     "metadata": {},
     "output_type": "display_data"
    }
   ],
   "source": [
    "# Data Viewing\n",
    "\n",
    "plt.hist(df['type'],color = 'r')\n",
    "plt.title(\"Bar plot\")\n",
    "plt.xlabel(\"fraud calls vs normal calls\")\n",
    "plt.ylabel(\"count\")"
   ]
  },
  {
   "cell_type": "code",
   "execution_count": 5,
   "metadata": {
    "executionInfo": {
     "elapsed": 435,
     "status": "ok",
     "timestamp": 1738254481378,
     "user": {
      "displayName": "Harshvardhan Gupta",
      "userId": "10328168051463798203"
     },
     "user_tz": -330
    },
    "id": "U9Bv5GXYdK78"
   },
   "outputs": [
    {
     "name": "stderr",
     "output_type": "stream",
     "text": [
      "C:\\Users\\allmi\\AppData\\Local\\Temp\\ipykernel_13524\\1002647449.py:2: FutureWarning: A value is trying to be set on a copy of a DataFrame or Series through chained assignment using an inplace method.\n",
      "The behavior will change in pandas 3.0. This inplace method will never work because the intermediate object on which we are setting values always behaves as a copy.\n",
      "\n",
      "For example, when doing 'df[col].method(value, inplace=True)', try using 'df.method({col: value}, inplace=True)' or df[col] = df[col].method(value) instead, to perform the operation inplace on the original object.\n",
      "\n",
      "\n",
      "  df['type'].replace([\"fraud\",\"normal\"],[1,0],inplace=True)\n",
      "C:\\Users\\allmi\\AppData\\Local\\Temp\\ipykernel_13524\\1002647449.py:2: FutureWarning: Downcasting behavior in `replace` is deprecated and will be removed in a future version. To retain the old behavior, explicitly call `result.infer_objects(copy=False)`. To opt-in to the future behavior, set `pd.set_option('future.no_silent_downcasting', True)`\n",
      "  df['type'].replace([\"fraud\",\"normal\"],[1,0],inplace=True)\n"
     ]
    }
   ],
   "source": [
    "# Label Encoding\n",
    "df['type'].replace([\"fraud\",\"normal\"],[1,0],inplace=True)\n",
    "\n",
    "# Using Vectorizer for better word encoding\n",
    "vectorizer = TfidfVectorizer(max_features=5000)\n",
    "X = vectorizer.fit_transform(df['clue'])\n",
    "Y = df['type']"
   ]
  },
  {
   "cell_type": "code",
   "execution_count": 6,
   "metadata": {
    "executionInfo": {
     "elapsed": 430,
     "status": "ok",
     "timestamp": 1738254504291,
     "user": {
      "displayName": "Harshvardhan Gupta",
      "userId": "10328168051463798203"
     },
     "user_tz": -330
    },
    "id": "ry1zwAwSCpXa"
   },
   "outputs": [],
   "source": [
    "#Split the data into training and testing sets\n",
    "X_train, X_test, Y_train, Y_test = train_test_split(X, Y, test_size=0.2, random_state=42)"
   ]
  },
  {
   "cell_type": "code",
   "execution_count": 7,
   "metadata": {
    "colab": {
     "base_uri": "https://localhost:8080/"
    },
    "executionInfo": {
     "elapsed": 435,
     "status": "ok",
     "timestamp": 1738254648733,
     "user": {
      "displayName": "Harshvardhan Gupta",
      "userId": "10328168051463798203"
     },
     "user_tz": -330
    },
    "id": "D0OHGV5dCujP",
    "outputId": "e991d405-f6f1-452e-fbb9-3c68496bc926"
   },
   "outputs": [
    {
     "name": "stdout",
     "output_type": "stream",
     "text": [
      "Accuracy: 98.33068362480127 %\n"
     ]
    }
   ],
   "source": [
    "# Training Model\n",
    "model = LogisticRegression(C=10)\n",
    "model.fit(X_train, Y_train)\n",
    "\n",
    "#Evaluating the model\n",
    "y_pred = model.predict(X_test)\n",
    "accuracy = accuracy_score(Y_test, y_pred)\n",
    "print(\"Accuracy:\", accuracy*100, \"%\")"
   ]
  },
  {
   "cell_type": "code",
   "execution_count": 8,
   "metadata": {
    "executionInfo": {
     "elapsed": 1702,
     "status": "ok",
     "timestamp": 1738257563226,
     "user": {
      "displayName": "Harshvardhan Gupta",
      "userId": "10328168051463798203"
     },
     "user_tz": -330
    },
    "id": "BwnjJP83rV04"
   },
   "outputs": [],
   "source": [
    "# Saving Model\n",
    "with open(r'trained_model.pkl', 'wb') as file:\n",
    "    pickle.dump(model, file)\n",
    "\n",
    "#Saving Vectorizer\n",
    "with open(r'vectorizer.pkl', 'wb') as file:\n",
    "    pickle.dump(vectorizer, file)"
   ]
  },
  {
   "cell_type": "code",
   "execution_count": 9,
   "metadata": {
    "colab": {
     "base_uri": "https://localhost:8080/"
    },
    "executionInfo": {
     "elapsed": 414,
     "status": "ok",
     "timestamp": 1738255035205,
     "user": {
      "displayName": "Harshvardhan Gupta",
      "userId": "10328168051463798203"
     },
     "user_tz": -330
    },
    "id": "4ouEyJ20DXX6",
    "outputId": "72dc2a20-aed0-4cd9-ded1-af3a31874818"
   },
   "outputs": [
    {
     "name": "stdout",
     "output_type": "stream",
     "text": [
      "Prediction: Fraudulent call\n"
     ]
    }
   ],
   "source": [
    "# Testing\n",
    "\n",
    "with open(r'trained_model.pkl', 'rb') as file:\n",
    "    model = pickle.load(file)\n",
    "\n",
    "text=\"hello i am manager speaking, give me the bank details\"\n",
    "\n",
    "text_to_predict = vectorizer.transform([text])\n",
    "prediction = model.predict(text_to_predict)\n",
    "if prediction[0] == 1:\n",
    "    print(\"Prediction: Fraudulent call\")\n",
    "else:\n",
    "    print(\"Prediction: Normal call\")"
   ]
  },
  {
   "cell_type": "code",
   "execution_count": null,
   "metadata": {
    "id": "X9SpFuU_DnCp"
   },
   "outputs": [],
   "source": [
    "# THE END OF THE MODEL TRAINING PART"
   ]
  }
 ],
 "metadata": {
  "colab": {
   "provenance": []
  },
  "kernelspec": {
   "display_name": "ai-gpu",
   "language": "python",
   "name": "python3"
  },
  "language_info": {
   "codemirror_mode": {
    "name": "ipython",
    "version": 3
   },
   "file_extension": ".py",
   "mimetype": "text/x-python",
   "name": "python",
   "nbconvert_exporter": "python",
   "pygments_lexer": "ipython3",
   "version": "3.9.20"
  }
 },
 "nbformat": 4,
 "nbformat_minor": 0
}
