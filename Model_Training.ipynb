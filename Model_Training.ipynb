{
 "cells": [
  {
   "cell_type": "code",
   "execution_count": 66,
   "metadata": {
    "executionInfo": {
     "elapsed": 2458,
     "status": "ok",
     "timestamp": 1738254127631,
     "user": {
      "displayName": "Harshvardhan Gupta",
      "userId": "10328168051463798203"
     },
     "user_tz": -330
    },
    "id": "7rtY54-ocJjp"
   },
   "outputs": [],
   "source": [
    "# importing all necessary libraries\n",
    "\n",
    "#basic libraries\n",
    "import numpy as np\n",
    "import pandas as pd\n",
    "import csv\n",
    "import matplotlib.pyplot as plt\n",
    "\n",
    "#for dataset processing and encoding\n",
    "from sklearn.model_selection import train_test_split\n",
    "from sklearn.feature_extraction.text import TfidfVectorizer\n",
    "\n",
    "# for training\n",
    "from sklearn.linear_model import LogisticRegression\n",
    "\n",
    "# for metric score\n",
    "from sklearn.metrics import accuracy_score\n",
    "\n",
    "\n",
    "import pickle"
   ]
  },
  {
   "cell_type": "code",
   "execution_count": 67,
   "metadata": {
    "executionInfo": {
     "elapsed": 402,
     "status": "ok",
     "timestamp": 1738254270433,
     "user": {
      "displayName": "Harshvardhan Gupta",
      "userId": "10328168051463798203"
     },
     "user_tz": -330
    },
    "id": "vUVnBho3cZRw"
   },
   "outputs": [],
   "source": [
    "# Data preprocessing\n",
    "\n",
    "file_path = r'main_dataset_fcd.txt'\n",
    "df = pd.read_csv(file_path, sep='\\t', names=['type','clue'], on_bad_lines='skip')\n",
    "df = df[df['type'].isin(['normal', 'fraud'])]\n",
    "df = df.sample(frac=1, random_state=42)"
   ]
  },
  {
   "cell_type": "code",
   "execution_count": 68,
   "metadata": {
    "colab": {
     "base_uri": "https://localhost:8080/",
     "height": 178
    },
    "executionInfo": {
     "elapsed": 430,
     "status": "ok",
     "timestamp": 1738254273117,
     "user": {
      "displayName": "Harshvardhan Gupta",
      "userId": "10328168051463798203"
     },
     "user_tz": -330
    },
    "id": "EOKVGSpt_iS2",
    "outputId": "64632b1e-7dfa-4cd9-bfb5-0014d2cff1d6"
   },
   "outputs": [
    {
     "data": {
      "text/plain": [
       "type\n",
       "normal    5461\n",
       "fraud      989\n",
       "Name: count, dtype: int64"
      ]
     },
     "execution_count": 68,
     "metadata": {},
     "output_type": "execute_result"
    }
   ],
   "source": [
    "df['type'].value_counts()"
   ]
  },
  {
   "cell_type": "code",
   "execution_count": 69,
   "metadata": {
    "colab": {
     "base_uri": "https://localhost:8080/",
     "height": 489
    },
    "executionInfo": {
     "elapsed": 497,
     "status": "ok",
     "timestamp": 1738220398703,
     "user": {
      "displayName": "Hitarth Shah",
      "userId": "18131423035616282836"
     },
     "user_tz": -330
    },
    "id": "2c95WKj4dBCH",
    "outputId": "c366e7f3-9c9f-4fd1-eaca-d2ffcd893fa5"
   },
   "outputs": [
    {
     "data": {
      "text/plain": [
       "Text(0, 0.5, 'count')"
      ]
     },
     "execution_count": 69,
     "metadata": {},
     "output_type": "execute_result"
    },
    {
     "data": {
      "image/png": "[encoded data removed]",
      "text/plain": [
       "<Figure size 640x480 with 1 Axes>"
      ]
     },
     "metadata": {},
     "output_type": "display_data"
    }
   ],
   "source": [
    "# Data Viewing\n",
    "\n",
    "plt.hist(df['type'])\n",
    "plt.title(\"Bar plot\")\n",
    "plt.xlabel(\"fraud calls vs normal calls\")\n",
    "plt.ylabel(\"count\")"
   ]
  },
  {
   "cell_type": "code",
   "execution_count": 70,
   "metadata": {
    "executionInfo": {
     "elapsed": 435,
     "status": "ok",
     "timestamp": 1738254481378,
     "user": {
      "displayName": "Harshvardhan Gupta",
      "userId": "10328168051463798203"
     },
     "user_tz": -330
    },
    "id": "U9Bv5GXYdK78"
   },
   "outputs": [
    {
     "name": "stderr",
     "output_type": "stream",
     "text": [
      "C:\\Users\\allmi\\AppData\\Local\\Temp\\ipykernel_34908\\211522868.py:2: FutureWarning: A value is trying to be set on a copy of a DataFrame or Series through chained assignment using an inplace method.\n",
      "The behavior will change in pandas 3.0. This inplace method will never work because the intermediate object on which we are setting values always behaves as a copy.\n",
      "\n",
      "For example, when doing 'df[col].method(value, inplace=True)', try using 'df.method({col: value}, inplace=True)' or df[col] = df[col].method(value) instead, to perform the operation inplace on the original object.\n",
      "\n",
      "\n",
      "  df['type'].replace([\"fraud\",\"normal\"],[1,0],inplace=True)\n",
      "C:\\Users\\allmi\\AppData\\Local\\Temp\\ipykernel_34908\\211522868.py:2: FutureWarning: Downcasting behavior in `replace` is deprecated and will be removed in a future version. To retain the old behavior, explicitly call `result.infer_objects(copy=False)`. To opt-in to the future behavior, set `pd.set_option('future.no_silent_downcasting', True)`\n",
      "  df['type'].replace([\"fraud\",\"normal\"],[1,0],inplace=True)\n"
     ]
    }
   ],
   "source": [
    "# Label Encoding\n",
    "df['type'].replace([\"fraud\",\"normal\"],[1,0],inplace=True)\n",
    "\n",
    "# Using Vectorizer for better word encoding\n",
    "vectorizer = TfidfVectorizer(max_features=1000)\n",
    "X = vectorizer.fit_transform(df['clue'])\n",
    "Y = df['type']"
   ]
  },
  {
   "cell_type": "code",
   "execution_count": 71,
   "metadata": {},
   "outputs": [
    {
     "name": "stdout",
     "output_type": "stream",
     "text": [
      "['000' '08000839402' '08000930705' '10' '100' '1000' '10p' '11' '12' '150'\n",
      " '150p' '150ppm' '16' '18' '1st' '200' '2000' '250' '2nd' '30' '350' '50'\n",
      " '500' '5000' '750' '800' '8007' '86688' '87066' 'aadhar' 'able' 'about'\n",
      " 'abt' 'access' 'account' 'action' 'activate' 'activity' 'actually'\n",
      " 'address' 'aft' 'after' 'afternoon' 'again' 'ago' 'ah' 'ahead' 'aight'\n",
      " 'airport' 'all' 'almost' 'alone' 'already' 'alright' 'also' 'always' 'am'\n",
      " 'amazing' 'amazon' 'amount' 'amp' 'an' 'and' 'angry' 'another' 'answer'\n",
      " 'any' 'anyone' 'anything' 'anytime' 'anyway' 'application' 'apply'\n",
      " 'approved' 'ard' 'are' 'around' 'as' 'ask' 'asked' 'asking' 'ass' 'at'\n",
      " 'atm' 'attempt' 'available' 'avoid' 'await' 'award' 'awarded' 'away'\n",
      " 'awesome' 'babe' 'baby' 'back' 'bad' 'balance' 'bank' 'banking' 'be'\n",
      " 'beautiful' 'because' 'become' 'bed' 'been' 'before' 'being' 'believe'\n",
      " 'best' 'better' 'between' 'big' 'bill' 'birthday' 'bit' 'blocked' 'blood'\n",
      " 'blue' 'bonus' 'book' 'books' 'bored' 'both' 'bout' 'box' 'boy' 'boytoy'\n",
      " 'break' 'bring' 'brother' 'bslvyl' 'bt' 'bus' 'busy' 'but' 'buy' 'by'\n",
      " 'call' 'called' 'caller' 'calling' 'calls' 'camcorder' 'came' 'camera'\n",
      " 'can' 'cannot' 'cant' 'car' 'card' 'care' 'carlos' 'case' 'cash' 'catch'\n",
      " 'cause' 'center' 'chance' 'change' 'charge' 'charged' 'chat' 'check'\n",
      " 'checking' 'chennai' 'chikku' 'choose' 'christmas' 'claim' 'class'\n",
      " 'clean' 'click' 'close' 'closed' 'club' 'co' 'code' 'coffee' 'collect'\n",
      " 'collection' 'college' 'colour' 'com' 'come' 'comes' 'coming' 'company'\n",
      " 'complete' 'completely' 'computer' 'confirm' 'congrats' 'congratulations'\n",
      " 'contact' 'content' 'continue' 'convey' 'cool' 'cos' 'cost' 'could'\n",
      " 'couple' 'course' 'coz' 'crazy' 'credit' 'cs' 'currently' 'customer' 'da'\n",
      " 'dad' 'darlin' 'darren' 'dat' 'data' 'date' 'dating' 'day' 'days' 'de'\n",
      " 'deal' 'dear' 'debit' 'decided' 'decimal' 'definitely' 'delivery' 'den'\n",
      " 'department' 'details' 'detected' 'did' 'didn' 'didnt' 'die' 'different'\n",
      " 'difficult' 'dinner' 'dis' 'discount' 'discuss' 'do' 'does' 'doesn'\n",
      " 'doin' 'doing' 'don' 'done' 'dont' 'double' 'down' 'download' 'draw'\n",
      " 'dreams' 'drink' 'drive' 'driving' 'drop' 'dude' 'due' 'dun' 'dunno'\n",
      " 'each' 'earlier' 'early' 'easy' 'eat' 'either' 'eligible' 'else' 'email'\n",
      " 'end' 'english' 'enjoy' 'enough' 'enter' 'entry' 'etc' 'eve' 'even'\n",
      " 'evening' 'ever' 'every' 'everyone' 'everything' 'exam' 'expire'\n",
      " 'expired' 'expires' 'face' 'fact' 'family' 'fancy' 'far' 'fast' 'father'\n",
      " 'fee' 'feel' 'feeling' 'felt' 'few' 'fill' 'final' 'finally' 'find'\n",
      " 'fine' 'finish' 'finished' 'first' 'fix' 'fone' 'food' 'for' 'forget'\n",
      " 'forgot' 'found' 'fr' 'free' 'freemsg' 'fri' 'friday' 'friend' 'friends'\n",
      " 'friendship' 'frm' 'frnd' 'frnds' 'from' 'fuck' 'fucking' 'full' 'fun'\n",
      " 'gal' 'game' 'gas' 'gave' 'gd' 'get' 'gets' 'getting' 'gift' 'girl'\n",
      " 'girls' 'give' 'giving' 'glad' 'gn' 'go' 'god' 'goes' 'goin' 'going'\n",
      " 'gone' 'gonna' 'good' 'goodmorning' 'got' 'gr8' 'great' 'gt' 'guaranteed'\n",
      " 'gud' 'guess' 'guy' 'guys' 'gym' 'ha' 'had' 'haf' 'haha' 'hair' 'half'\n",
      " 'hand' 'happen' 'happened' 'happiness' 'happy' 'hard' 'has' 'hav' 'have'\n",
      " 'haven' 'havent' 'having' 'he' 'head' 'hear' 'heard' 'heart' 'hee'\n",
      " 'hello' 'help' 'her' 'here' 'hey' 'hi' 'him' 'his' 'hit' 'hmm' 'hmmm'\n",
      " 'hold' 'holiday' 'home' 'hope' 'hospital' 'hot' 'hour' 'hours' 'house'\n",
      " 'how' 'hows' 'http' 'huh' 'hungry' 'hurt' 'id' 'idea' 'identity' 'if'\n",
      " 'ill' 'im' 'immediately' 'important' 'in' 'india' 'information' 'inr'\n",
      " 'insurance' 'internet' 'interview' 'into' 'invited' 'is' 'isn' 'issue'\n",
      " 'issues' 'it' 'its' 'jay' 'job' 'john' 'join' 'joy' 'jus' 'just' 'juz'\n",
      " 'keep' 'kids' 'kind' 'kiss' 'knew' 'know' 'knw' 'kyc' 'land' 'landline'\n",
      " 'laptop' 'lar' 'last' 'late' 'later' 'latest' 'learn' 'least' 'leave'\n",
      " 'leaving' 'left' 'legal' 'leh' 'lei' 'lesson' 'let' 'lets' 'liao' 'life'\n",
      " 'light' 'like' 'line' 'link' 'listen' 'little' 'live' 'll' 'loads' 'loan'\n",
      " 'log' 'login' 'lol' 'long' 'look' 'looking' 'looks' 'lor' 'lose' 'lost'\n",
      " 'lot' 'lots' 'love' 'loved' 'lovely' 'loving' 'lt' 'ltd' 'luck' 'lucky'\n",
      " 'lunch' 'luv' 'made' 'mail' 'make' 'makes' 'making' 'man' 'many' 'march'\n",
      " 'mate' 'mates' 'matter' 'may' 'mayb' 'maybe' 'me' 'mean' 'means' 'meant'\n",
      " 'meet' 'meeting' 'message' 'messages' 'met' 'might' 'min' 'mind' 'mine'\n",
      " 'mins' 'minute' 'minutes' 'miss' 'missed' 'missing' 'mob' 'mobile'\n",
      " 'mobileupd8' 'mom' 'monday' 'money' 'month' 'months' 'more' 'morning'\n",
      " 'most' 'motorola' 'move' 'movie' 'mr' 'mrng' 'msg' 'mu' 'much' 'mum'\n",
      " 'music' 'must' 'my' 'na' 'name' 'national' 'need' 'needs' 'net' 'network'\n",
      " 'neva' 'never' 'new' 'news' 'next' 'ni8' 'nice' 'night' 'nite' 'no' 'noe'\n",
      " 'nokia' 'nope' 'normal' 'not' 'nothing' 'now' 'nt' 'number' 'numbers'\n",
      " 'nyt' 'of' 'off' 'offer' 'offering' 'office' 'oh' 'ok' 'okay' 'okie'\n",
      " 'old' 'on' 'once' 'one' 'online' 'only' 'open' 'opt' 'or' 'orange'\n",
      " 'order' 'oredi' 'oso' 'other' 'otp' 'our' 'out' 'outside' 'over' 'own'\n",
      " 'pa' 'package' 'pain' 'pan' 'paper' 'parents' 'park' 'part' 'party'\n",
      " 'pass' 'pay' 'payment' 'pending' 'people' 'per' 'person' 'personal'\n",
      " 'pete' 'phone' 'phones' 'pic' 'pick' 'picking' 'pics' 'place' 'plan'\n",
      " 'plans' 'play' 'player' 'please' 'pls' 'plus' 'plz' 'pm' 'po' 'point'\n",
      " 'points' 'police' 'poly' 'post' 'pounds' 'press' 'pretty' 'price'\n",
      " 'princess' 'private' 'prize' 'prob' 'probably' 'problem' 'problems'\n",
      " 'process' 'project' 'provide' 'pub' 'put' 'question' 'quick' 'quite'\n",
      " 'rate' 're' 'reach' 'reached' 'read' 'reading' 'ready' 'real' 'really'\n",
      " 'reason' 'receive' 'received' 'red' 'refund' 'remember' 'reply' 'rest'\n",
      " 'reward' 'right' 'ring' 'ringtone' 'rite' 'room' 'round' 'rs' 'run' 'sad'\n",
      " 'sae' 'safe' 'said' 'same' 'sat' 'saturday' 'saw' 'say' 'saying' 'says'\n",
      " 'sch' 'school' 'sea' 'search' 'second' 'secret' 'secure' 'security' 'see'\n",
      " 'seeing' 'seems' 'seen' 'selected' 'self' 'semester' 'send' 'sending'\n",
      " 'sent' 'service' 'services' 'set' 'sex' 'sexy' 'shall' 'share' 'sharing'\n",
      " 'she' 'shit' 'shop' 'shopping' 'short' 'should' 'show' 'shower' 'shows'\n",
      " 'side' 'sim' 'simple' 'since' 'sir' 'sis' 'sister' 'sitting' 'sleep'\n",
      " 'sleeping' 'slowly' 'small' 'smile' 'smiling' 'smoke' 'smoking' 'sms'\n",
      " 'smth' 'snow' 'so' 'social' 'some' 'someone' 'something' 'sometimes'\n",
      " 'soon' 'sorry' 'sound' 'sounds' 'speak' 'speaking' 'special' 'speed'\n",
      " 'spend' 'start' 'started' 'statement' 'stay' 'still' 'stop' 'store'\n",
      " 'story' 'students' 'study' 'stuff' 'stupid' 'subscription' 'such' 'sun'\n",
      " 'sunday' 'support' 'supposed' 'sure' 'surprise' 'suspicious' 'sweet'\n",
      " 'swing' 'take' 'takes' 'taking' 'talk' 'talking' 'tax' 'team' 'tell'\n",
      " 'telling' 'ten' 'test' 'text' 'texts' 'th' 'than' 'thank' 'thanks'\n",
      " 'thanx' 'that' 'thats' 'the' 'their' 'them' 'then' 'there' 'these' 'they'\n",
      " 'thing' 'things' 'think' 'thinking' 'this' 'thk' 'tho' 'those' 'though'\n",
      " 'thought' 'through' 'ticket' 'tickets' 'til' 'till' 'time' 'times'\n",
      " 'tired' 'tmr' 'to' 'today' 'todays' 'together' 'told' 'tomo' 'tomorrow'\n",
      " 'tone' 'tones' 'tonight' 'too' 'took' 'top' 'tot' 'touch' 'town' 'train'\n",
      " 'transaction' 'treat' 'tried' 'trip' 'true' 'try' 'trying' 'tv' 'two'\n",
      " 'txt' 'txts' 'type' 'uk' 'uncle' 'under' 'understand' 'unless'\n",
      " 'unlimited' 'unsubscribe' 'until' 'up' 'update' 'upi' 'ur' 'urgent' 'us'\n",
      " 'use' 'used' 'user' 'using' 'valid' 'valued' 've' 'verification' 'verify'\n",
      " 'very' 'via' 'video' 'visit' 'voucher' 'vouchers' 'wait' 'waiting' 'wake'\n",
      " 'walk' 'wallet' 'wan' 'wanna' 'want' 'wanted' 'wants' 'warranty' 'was'\n",
      " 'wasn' 'wat' 'watch' 'watching' 'water' 'way' 'we' 'weather' 'week'\n",
      " 'weekend' 'weekly' 'weeks' 'welcome' 'well' 'wen' 'went' 'were' 'what'\n",
      " 'whatever' 'whats' 'when' 'whenever' 'where' 'which' 'while' 'who'\n",
      " 'whole' 'why' 'wid' 'wif' 'wife' 'wil' 'will' 'win' 'winner' 'wish' 'wit'\n",
      " 'with' 'within' 'without' 'wk' 'won' 'wonderful' 'wont' 'word' 'words'\n",
      " 'work' 'working' 'world' 'worried' 'worry' 'worth' 'wot' 'would' 'wow'\n",
      " 'write' 'wrong' 'www' 'xmas' 'xx' 'xxx' 'ya' 'yar' 'yeah' 'year' 'years'\n",
      " 'yes' 'yesterday' 'yet' 'yo' 'you' 'your' 'yours' 'yourself' 'yup']\n"
     ]
    }
   ],
   "source": [
    "#analysing imp word\n",
    "\n",
    "important_words = vectorizer.get_feature_names_out()\n",
    "print(important_words)"
   ]
  },
  {
   "cell_type": "code",
   "execution_count": 72,
   "metadata": {
    "executionInfo": {
     "elapsed": 430,
     "status": "ok",
     "timestamp": 1738254504291,
     "user": {
      "displayName": "Harshvardhan Gupta",
      "userId": "10328168051463798203"
     },
     "user_tz": -330
    },
    "id": "ry1zwAwSCpXa"
   },
   "outputs": [],
   "source": [
    "#Split the data into training and testing sets\n",
    "X_train, X_test, Y_train, Y_test = train_test_split(X, Y, test_size=0.20, random_state=42)"
   ]
  },
  {
   "cell_type": "code",
   "execution_count": 73,
   "metadata": {
    "colab": {
     "base_uri": "https://localhost:8080/"
    },
    "executionInfo": {
     "elapsed": 435,
     "status": "ok",
     "timestamp": 1738254648733,
     "user": {
      "displayName": "Harshvardhan Gupta",
      "userId": "10328168051463798203"
     },
     "user_tz": -330
    },
    "id": "D0OHGV5dCujP",
    "outputId": "e991d405-f6f1-452e-fbb9-3c68496bc926"
   },
   "outputs": [
    {
     "name": "stdout",
     "output_type": "stream",
     "text": [
      "Accuracy: 98.68217054263566 %\n"
     ]
    }
   ],
   "source": [
    "# Training Model\n",
    "model = LogisticRegression(C=10)\n",
    "model.fit(X_train, Y_train)\n",
    "\n",
    "#Evaluating the model\n",
    "y_pred = model.predict(X_test)\n",
    "accuracy = accuracy_score(Y_test, y_pred)\n",
    "print(\"Accuracy:\", accuracy*100, \"%\")"
   ]
  },
  {
   "cell_type": "code",
   "execution_count": 74,
   "metadata": {
    "executionInfo": {
     "elapsed": 1702,
     "status": "ok",
     "timestamp": 1738257563226,
     "user": {
      "displayName": "Harshvardhan Gupta",
      "userId": "10328168051463798203"
     },
     "user_tz": -330
    },
    "id": "BwnjJP83rV04"
   },
   "outputs": [],
   "source": [
    "# Saving Model\n",
    "with open(r'trained_model.pkl', 'wb') as file:\n",
    "    pickle.dump(model, file)\n",
    "\n",
    "#Saving Vectorizer\n",
    "with open(r'vectorizer.pkl', 'wb') as file:\n",
    "    pickle.dump(vectorizer, file)"
   ]
  },
  {
   "cell_type": "code",
   "execution_count": 75,
   "metadata": {
    "colab": {
     "base_uri": "https://localhost:8080/"
    },
    "executionInfo": {
     "elapsed": 414,
     "status": "ok",
     "timestamp": 1738255035205,
     "user": {
      "displayName": "Harshvardhan Gupta",
      "userId": "10328168051463798203"
     },
     "user_tz": -330
    },
    "id": "4ouEyJ20DXX6",
    "outputId": "72dc2a20-aed0-4cd9-ded1-af3a31874818"
   },
   "outputs": [
    {
     "name": "stdout",
     "output_type": "stream",
     "text": [
      "Prediction: Fraudulent call\n"
     ]
    }
   ],
   "source": [
    "# Testing\n",
    "\n",
    "with open(r'trained_model.pkl', 'rb') as file:\n",
    "    model = pickle.load(file)\n",
    "\n",
    "text=\"hello i am manager speaking, give me the bank details\"\n",
    "\n",
    "text_to_predict = vectorizer.transform([text])\n",
    "prediction = model.predict(text_to_predict)\n",
    "if prediction[0] == 1:\n",
    "    print(\"Prediction: Fraudulent call\")\n",
    "else:\n",
    "    print(\"Prediction: Normal call\")"
   ]
  },
  {
   "cell_type": "code",
   "execution_count": 25,
   "metadata": {
    "id": "X9SpFuU_DnCp"
   },
   "outputs": [],
   "source": [
    "# THE END OF THE MODEL TRAINING PART"
   ]
  },
  {
   "cell_type": "code",
   "execution_count": null,
   "metadata": {},
   "outputs": [],
   "source": []
  },
  {
   "cell_type": "code",
   "execution_count": null,
   "metadata": {},
   "outputs": [],
   "source": []
  }
 ],
 "metadata": {
  "colab": {
   "provenance": []
  },
  "kernelspec": {
   "display_name": "ai-gpu",
   "language": "python",
   "name": "python3"
  },
  "language_info": {
   "codemirror_mode": {
    "name": "ipython",
    "version": 3
   },
   "file_extension": ".py",
   "mimetype": "text/x-python",
   "name": "python",
   "nbconvert_exporter": "python",
   "pygments_lexer": "ipython3",
   "version": "3.9.20"
  }
 },
 "nbformat": 4,
 "nbformat_minor": 0
}
