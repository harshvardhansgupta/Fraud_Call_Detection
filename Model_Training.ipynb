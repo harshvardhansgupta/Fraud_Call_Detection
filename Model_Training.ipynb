{
 "cells": [
  {
   "cell_type": "code",
   "execution_count": 1,
   "metadata": {
    "executionInfo": {
     "elapsed": 2458,
     "status": "ok",
     "timestamp": 1738254127631,
     "user": {
      "displayName": "Harshvardhan Gupta",
      "userId": "10328168051463798203"
     },
     "user_tz": -330
    },
    "id": "7rtY54-ocJjp"
   },
   "outputs": [],
   "source": [
    "# importing all necessary libraries\n",
    "\n",
    "#basic libraries\n",
    "import numpy as np\n",
    "import pandas as pd\n",
    "import csv\n",
    "import matplotlib.pyplot as plt\n",
    "\n",
    "#for dataset processing and encoding\n",
    "from sklearn.model_selection import train_test_split\n",
    "from sklearn.feature_extraction.text import TfidfVectorizer\n",
    "\n",
    "# for training\n",
    "from sklearn.linear_model import LogisticRegression\n",
    "\n",
    "# for metric score\n",
    "from sklearn.metrics import accuracy_score\n",
    "\n",
    "\n",
    "import pickle"
   ]
  },
  {
   "cell_type": "code",
   "execution_count": 2,
   "metadata": {
    "executionInfo": {
     "elapsed": 402,
     "status": "ok",
     "timestamp": 1738254270433,
     "user": {
      "displayName": "Harshvardhan Gupta",
      "userId": "10328168051463798203"
     },
     "user_tz": -330
    },
    "id": "vUVnBho3cZRw"
   },
   "outputs": [],
   "source": [
    "# Data preprocessing\n",
    "\n",
    "file_path = r'main_dataset_fcd.txt'\n",
    "df = pd.read_csv(file_path, sep='\\t', names=['type','clue'], on_bad_lines='skip')\n",
    "df = df[df['type'].isin(['normal', 'fraud'])]\n",
    "df = df.sample(frac=1, random_state=42)"
   ]
  },
  {
   "cell_type": "code",
   "execution_count": 3,
   "metadata": {
    "colab": {
     "base_uri": "https://localhost:8080/",
     "height": 178
    },
    "executionInfo": {
     "elapsed": 430,
     "status": "ok",
     "timestamp": 1738254273117,
     "user": {
      "displayName": "Harshvardhan Gupta",
      "userId": "10328168051463798203"
     },
     "user_tz": -330
    },
    "id": "EOKVGSpt_iS2",
    "outputId": "64632b1e-7dfa-4cd9-bfb5-0014d2cff1d6"
   },
   "outputs": [
    {
     "data": {
      "text/plain": [
       "type\n",
       "normal    5441\n",
       "fraud      848\n",
       "Name: count, dtype: int64"
      ]
     },
     "execution_count": 3,
     "metadata": {},
     "output_type": "execute_result"
    }
   ],
   "source": [
    "df['type'].value_counts()"
   ]
  },
  {
   "cell_type": "code",
   "execution_count": 4,
   "metadata": {
    "colab": {
     "base_uri": "https://localhost:8080/",
     "height": 489
    },
    "executionInfo": {
     "elapsed": 497,
     "status": "ok",
     "timestamp": 1738220398703,
     "user": {
      "displayName": "Hitarth Shah",
      "userId": "18131423035616282836"
     },
     "user_tz": -330
    },
    "id": "2c95WKj4dBCH",
    "outputId": "c366e7f3-9c9f-4fd1-eaca-d2ffcd893fa5"
   },
   "outputs": [
    {
     "data": {
      "text/plain": [
       "Text(0, 0.5, 'count')"
      ]
     },
     "execution_count": 4,
     "metadata": {},
     "output_type": "execute_result"
    },
    {
     "data": {
      "image/png": "[encoded data removed]",
      "text/plain": [
       "<Figure size 640x480 with 1 Axes>"
      ]
     },
     "metadata": {},
     "output_type": "display_data"
    }
   ],
   "source": [
    "# Data Viewing\n",
    "\n",
    "plt.hist(df['type'],color = 'r')\n",
    "plt.title(\"Bar plot\")\n",
    "plt.xlabel(\"fraud calls vs normal calls\")\n",
    "plt.ylabel(\"count\")"
   ]
  },
  {
   "cell_type": "code",
   "execution_count": 6,
   "metadata": {
    "executionInfo": {
     "elapsed": 435,
     "status": "ok",
     "timestamp": 1738254481378,
     "user": {
      "displayName": "Harshvardhan Gupta",
      "userId": "10328168051463798203"
     },
     "user_tz": -330
    },
    "id": "U9Bv5GXYdK78"
   },
   "outputs": [],
   "source": [
    "# Label Encoding\n",
    "df['type'].replace([\"fraud\",\"normal\"],[1,0],inplace=True)\n",
    "\n",
    "# Using Vectorizer for better word encoding\n",
    "vectorizer = TfidfVectorizer(max_features=1000)\n",
    "X = vectorizer.fit_transform(df['clue'])\n",
    "Y = df['type']"
   ]
  },
  {
   "cell_type": "code",
   "execution_count": 7,
   "metadata": {},
   "outputs": [
    {
     "name": "stdout",
     "output_type": "stream",
     "text": [
      "['000' '03' '08000839402' '08000930705' '10' '100' '1000' '10p' '11' '12'\n",
      " '150' '150p' '150ppm' '16' '18' '1st' '200' '2000' '23' '250' '2nd' '30'\n",
      " '350' '50' '500' '5000' '750' '800' '8007' '86688' 'aadhar' 'able'\n",
      " 'about' 'abt' 'access' 'account' 'action' 'activate' 'actually' 'address'\n",
      " 'aft' 'after' 'afternoon' 'again' 'age' 'ago' 'ah' 'ahead' 'aight' 'all'\n",
      " 'almost' 'alone' 'already' 'alright' 'also' 'always' 'am' 'amazing'\n",
      " 'amount' 'amp' 'an' 'and' 'angry' 'another' 'answer' 'any' 'anyone'\n",
      " 'anything' 'anytime' 'anyway' 'application' 'apply' 'ard' 'are' 'around'\n",
      " 'as' 'ask' 'asked' 'asking' 'ass' 'at' 'atm' 'attempt' 'auction'\n",
      " 'available' 'avoid' 'await' 'award' 'awarded' 'away' 'awesome' 'babe'\n",
      " 'baby' 'back' 'bad' 'balance' 'bank' 'bath' 'be' 'beautiful' 'because'\n",
      " 'become' 'bed' 'been' 'before' 'being' 'believe' 'best' 'better'\n",
      " 'between' 'big' 'bill' 'birthday' 'bit' 'blue' 'bonus' 'book' 'books'\n",
      " 'bored' 'both' 'bout' 'box' 'boy' 'boytoy' 'break' 'bring' 'brother'\n",
      " 'bslvyl' 'bt' 'bus' 'busy' 'but' 'buy' 'by' 'call' 'called' 'caller'\n",
      " 'calling' 'calls' 'camcorder' 'came' 'camera' 'can' 'cannot' 'cant' 'car'\n",
      " 'card' 'care' 'carlos' 'case' 'cash' 'catch' 'cause' 'center' 'chance'\n",
      " 'change' 'charge' 'charged' 'chat' 'check' 'checking' 'chennai' 'chikku'\n",
      " 'choose' 'christmas' 'claim' 'class' 'clean' 'click' 'close' 'closed'\n",
      " 'club' 'co' 'code' 'coffee' 'collect' 'collection' 'college' 'colour'\n",
      " 'com' 'come' 'comes' 'coming' 'company' 'complete' 'completely'\n",
      " 'computer' 'confirm' 'congrats' 'congratulations' 'contact' 'content'\n",
      " 'continue' 'cool' 'cos' 'cost' 'could' 'couple' 'course' 'cover' 'coz'\n",
      " 'crazy' 'credit' 'cs' 'cum' 'currently' 'customer' 'cut' 'da' 'dad'\n",
      " 'darlin' 'darren' 'dat' 'date' 'dating' 'day' 'days' 'de' 'deal' 'dear'\n",
      " 'debit' 'decided' 'decimal' 'definitely' 'delivery' 'den' 'department'\n",
      " 'details' 'detected' 'did' 'didn' 'didnt' 'die' 'different' 'difficult'\n",
      " 'dinner' 'dis' 'discount' 'discuss' 'dnt' 'do' 'does' 'doesn' 'doin'\n",
      " 'doing' 'don' 'done' 'dont' 'double' 'down' 'download' 'draw' 'dreams'\n",
      " 'drink' 'drive' 'driving' 'drop' 'dude' 'due' 'dun' 'dunno' 'each'\n",
      " 'earlier' 'early' 'easy' 'eat' 'either' 'else' 'email' 'end' 'ending'\n",
      " 'english' 'enjoy' 'enough' 'enter' 'entry' 'etc' 'eve' 'even' 'evening'\n",
      " 'ever' 'every' 'everyone' 'everything' 'exam' 'excellent' 'expire'\n",
      " 'expired' 'expires' 'face' 'fact' 'family' 'fancy' 'far' 'fast' 'father'\n",
      " 'feel' 'feeling' 'felt' 'few' 'fill' 'final' 'finally' 'find' 'fine'\n",
      " 'finish' 'finished' 'first' 'fone' 'food' 'for' 'forever' 'forget'\n",
      " 'forgot' 'form' 'found' 'fr' 'free' 'fri' 'friday' 'friend' 'friends'\n",
      " 'friendship' 'frm' 'frnd' 'frnds' 'from' 'fuck' 'fucking' 'full' 'fun'\n",
      " 'gal' 'game' 'gas' 'gave' 'gd' 'get' 'gets' 'getting' 'gift' 'girl'\n",
      " 'girls' 'give' 'gn' 'go' 'god' 'goes' 'goin' 'going' 'gone' 'gonna'\n",
      " 'good' 'goodmorning' 'got' 'gr8' 'great' 'gt' 'guaranteed' 'gud' 'guess'\n",
      " 'guy' 'guys' 'gym' 'ha' 'had' 'haf' 'haha' 'hair' 'half' 'hand' 'happen'\n",
      " 'happened' 'happiness' 'happy' 'hard' 'has' 'hav' 'have' 'haven' 'havent'\n",
      " 'having' 'he' 'head' 'hear' 'heard' 'heart' 'hee' 'hello' 'help' 'her'\n",
      " 'here' 'hey' 'hi' 'him' 'his' 'hit' 'hmm' 'hmmm' 'hold' 'holiday' 'home'\n",
      " 'hope' 'hospital' 'hot' 'hour' 'hours' 'house' 'how' 'hows' 'http' 'huh'\n",
      " 'hungry' 'hurt' 'id' 'idea' 'identifier' 'identity' 'if' 'ill' 'im'\n",
      " 'immediately' 'important' 'in' 'india' 'information' 'inr' 'insurance'\n",
      " 'internet' 'into' 'invited' 'is' 'isn' 'issues' 'it' 'its' 'jay' 'job'\n",
      " 'john' 'join' 'joy' 'jus' 'just' 'juz' 'kate' 'keep' 'kids' 'kind' 'kiss'\n",
      " 'knew' 'know' 'knw' 'kyc' 'land' 'landline' 'laptop' 'lar' 'last' 'late'\n",
      " 'later' 'latest' 'learn' 'least' 'leave' 'leaving' 'left' 'leh' 'lei'\n",
      " 'lesson' 'let' 'lets' 'liao' 'life' 'light' 'like' 'line' 'link' 'listen'\n",
      " 'little' 'live' 'll' 'loads' 'loan' 'log' 'login' 'lol' 'long' 'look'\n",
      " 'looking' 'looks' 'lor' 'lose' 'lost' 'lot' 'lots' 'love' 'loved'\n",
      " 'lovely' 'loving' 'lt' 'ltd' 'luck' 'lucky' 'lunch' 'luv' 'made' 'mah'\n",
      " 'mail' 'make' 'makes' 'making' 'man' 'many' 'march' 'match' 'mate'\n",
      " 'mates' 'may' 'mayb' 'maybe' 'me' 'mean' 'means' 'meant' 'meet' 'meeting'\n",
      " 'message' 'messages' 'met' 'might' 'min' 'mind' 'mine' 'mins' 'minute'\n",
      " 'minutes' 'miss' 'missed' 'missing' 'mob' 'mobile' 'mobileupd8' 'mom'\n",
      " 'monday' 'money' 'month' 'months' 'more' 'morning' 'most' 'motorola'\n",
      " 'move' 'movie' 'mr' 'mrng' 'msg' 'mu' 'much' 'mum' 'music' 'must' 'muz'\n",
      " 'my' 'myself' 'na' 'name' 'national' 'need' 'needs' 'net' 'network'\n",
      " 'neva' 'never' 'new' 'news' 'next' 'ni8' 'nice' 'night' 'nite' 'no' 'noe'\n",
      " 'nokia' 'noon' 'nope' 'normal' 'not' 'nothing' 'now' 'nt' 'number'\n",
      " 'numbers' 'nyt' 'of' 'off' 'offer' 'office' 'oh' 'ok' 'okay' 'okie' 'old'\n",
      " 'on' 'once' 'one' 'ones' 'online' 'only' 'open' 'opt' 'or' 'orange'\n",
      " 'orchard' 'order' 'oredi' 'oso' 'other' 'otherwise' 'otp' 'our' 'out'\n",
      " 'outside' 'over' 'own' 'pa' 'pain' 'pan' 'paper' 'parents' 'park' 'part'\n",
      " 'party' 'pass' 'pay' 'payment' 'paytm' 'people' 'per' 'person' 'pete'\n",
      " 'phone' 'phones' 'pic' 'pick' 'picking' 'pics' 'place' 'plan' 'plans'\n",
      " 'play' 'player' 'please' 'pls' 'plus' 'plz' 'pm' 'po' 'pobox' 'point'\n",
      " 'points' 'police' 'poly' 'poor' 'post' 'pounds' 'pray' 'press' 'pretty'\n",
      " 'price' 'princess' 'private' 'prize' 'prob' 'probably' 'problem'\n",
      " 'problems' 'project' 'provide' 'pub' 'put' 'question' 'quick' 'quite'\n",
      " 'rate' 're' 'reach' 'reached' 'read' 'reading' 'ready' 'real' 'really'\n",
      " 'reason' 'receive' 'received' 'red' 'remember' 'reply' 'rest' 'reward'\n",
      " 'right' 'ring' 'ringtone' 'rite' 'rock' 'room' 'round' 'rs' 'run' 'sad'\n",
      " 'sae' 'safe' 'said' 'same' 'sat' 'saturday' 'saw' 'say' 'saying' 'says'\n",
      " 'sch' 'school' 'sea' 'search' 'second' 'secret' 'secure' 'security' 'see'\n",
      " 'seeing' 'seems' 'seen' 'selected' 'self' 'sell' 'semester' 'send'\n",
      " 'sending' 'sent' 'service' 'services' 'set' 'sex' 'sexy' 'shall' 'share'\n",
      " 'sharing' 'she' 'shit' 'shop' 'shopping' 'short' 'should' 'show' 'shower'\n",
      " 'shows' 'side' 'sim' 'simple' 'since' 'sir' 'sis' 'sister' 'sitting'\n",
      " 'sleep' 'sleeping' 'small' 'smile' 'smiling' 'smoke' 'smoking' 'sms'\n",
      " 'smth' 'snow' 'so' 'social' 'some' 'someone' 'something' 'sometimes'\n",
      " 'somewhere' 'soon' 'sorry' 'sort' 'sound' 'sounds' 'speak' 'speaking'\n",
      " 'special' 'spend' 'start' 'started' 'statement' 'stay' 'still' 'stop'\n",
      " 'store' 'story' 'students' 'study' 'stuff' 'stupid' 'such' 'sun' 'sunday'\n",
      " 'support' 'supposed' 'sure' 'surprise' 'sweet' 'swing' 'take' 'takes'\n",
      " 'taking' 'talk' 'talking' 'tell' 'telling' 'ten' 'test' 'text' 'texts'\n",
      " 'th' 'than' 'thank' 'thanks' 'thanx' 'that' 'thats' 'the' 'their' 'them'\n",
      " 'then' 'there' 'these' 'they' 'thing' 'things' 'think' 'thinking' 'this'\n",
      " 'thk' 'tho' 'those' 'though' 'thought' 'through' 'ticket' 'tickets' 'til'\n",
      " 'till' 'time' 'times' 'tired' 'tmr' 'to' 'today' 'todays' 'together'\n",
      " 'told' 'tomo' 'tomorrow' 'tone' 'tones' 'tonight' 'too' 'took' 'top'\n",
      " 'tot' 'touch' 'town' 'train' 'treat' 'tried' 'trip' 'true' 'truth' 'try'\n",
      " 'trying' 'tv' 'two' 'txt' 'txts' 'type' 'uk' 'uncle' 'under' 'understand'\n",
      " 'unless' 'unlimited' 'unsubscribe' 'until' 'up' 'update' 'upi' 'ur'\n",
      " 'urgent' 'us' 'use' 'used' 'using' 'usual' 'valid' 'valued' 've'\n",
      " 'verification' 'verify' 'very' 'via' 'video' 'visit' 'voucher' 'vouchers'\n",
      " 'wait' 'waiting' 'wake' 'walk' 'wan' 'wanna' 'want' 'wanted' 'wants'\n",
      " 'warranty' 'was' 'wasn' 'wat' 'watch' 'watching' 'water' 'way' 'we'\n",
      " 'week' 'weekend' 'weekly' 'weeks' 'welcome' 'well' 'wen' 'went' 'were'\n",
      " 'what' 'whatever' 'whats' 'when' 'whenever' 'where' 'which' 'while' 'who'\n",
      " 'whole' 'why' 'wid' 'wif' 'wife' 'wil' 'will' 'win' 'wine' 'winner'\n",
      " 'wish' 'wishing' 'wit' 'with' 'within' 'without' 'wk' 'won' 'wonder'\n",
      " 'wonderful' 'wont' 'word' 'words' 'work' 'working' 'world' 'worried'\n",
      " 'worry' 'worth' 'wot' 'would' 'wow' 'write' 'wrong' 'www' 'xmas' 'xx'\n",
      " 'xxx' 'ya' 'yar' 'yeah' 'year' 'years' 'yes' 'yesterday' 'yet' 'yo' 'you'\n",
      " 'your' 'yours' 'yourself' 'yup']\n"
     ]
    }
   ],
   "source": [
    "#analysing imp word\n",
    "\n",
    "important_words = vectorizer.get_feature_names_out()\n",
    "print(important_words)"
   ]
  },
  {
   "cell_type": "code",
   "execution_count": 8,
   "metadata": {
    "executionInfo": {
     "elapsed": 430,
     "status": "ok",
     "timestamp": 1738254504291,
     "user": {
      "displayName": "Harshvardhan Gupta",
      "userId": "10328168051463798203"
     },
     "user_tz": -330
    },
    "id": "ry1zwAwSCpXa"
   },
   "outputs": [],
   "source": [
    "#Split the data into training and testing sets\n",
    "X_train, X_test, Y_train, Y_test = train_test_split(X, Y, test_size=0.20, random_state=42)"
   ]
  },
  {
   "cell_type": "code",
   "execution_count": 9,
   "metadata": {
    "colab": {
     "base_uri": "https://localhost:8080/"
    },
    "executionInfo": {
     "elapsed": 435,
     "status": "ok",
     "timestamp": 1738254648733,
     "user": {
      "displayName": "Harshvardhan Gupta",
      "userId": "10328168051463798203"
     },
     "user_tz": -330
    },
    "id": "D0OHGV5dCujP",
    "outputId": "e991d405-f6f1-452e-fbb9-3c68496bc926"
   },
   "outputs": [
    {
     "name": "stdout",
     "output_type": "stream",
     "text": [
      "Accuracy: 99.04610492845786 %\n"
     ]
    }
   ],
   "source": [
    "# Training Model\n",
    "model = LogisticRegression(C=10)\n",
    "model.fit(X_train, Y_train)\n",
    "\n",
    "#Evaluating the model\n",
    "y_pred = model.predict(X_test)\n",
    "accuracy = accuracy_score(Y_test, y_pred)\n",
    "print(\"Accuracy:\", accuracy*100, \"%\")"
   ]
  },
  {
   "cell_type": "code",
   "execution_count": 10,
   "metadata": {
    "executionInfo": {
     "elapsed": 1702,
     "status": "ok",
     "timestamp": 1738257563226,
     "user": {
      "displayName": "Harshvardhan Gupta",
      "userId": "10328168051463798203"
     },
     "user_tz": -330
    },
    "id": "BwnjJP83rV04"
   },
   "outputs": [],
   "source": [
    "# Saving Model\n",
    "with open(r'trained_model.pkl', 'wb') as file:\n",
    "    pickle.dump(model, file)\n",
    "\n",
    "#Saving Vectorizer\n",
    "with open(r'vectorizer.pkl', 'wb') as file:\n",
    "    pickle.dump(vectorizer, file)"
   ]
  },
  {
   "cell_type": "code",
   "execution_count": 12,
   "metadata": {
    "colab": {
     "base_uri": "https://localhost:8080/"
    },
    "executionInfo": {
     "elapsed": 414,
     "status": "ok",
     "timestamp": 1738255035205,
     "user": {
      "displayName": "Harshvardhan Gupta",
      "userId": "10328168051463798203"
     },
     "user_tz": -330
    },
    "id": "4ouEyJ20DXX6",
    "outputId": "72dc2a20-aed0-4cd9-ded1-af3a31874818"
   },
   "outputs": [
    {
     "name": "stdout",
     "output_type": "stream",
     "text": [
      "Prediction: Fraudulent call\n"
     ]
    }
   ],
   "source": [
    "# Testing\n",
    "\n",
    "with open(r'trained_model.pkl', 'rb') as file:\n",
    "    model = pickle.load(file)\n",
    "\n",
    "text=\"hello i am manager speaking, give me the bank details\"\n",
    "\n",
    "text_to_predict = vectorizer.transform([text])\n",
    "prediction = model.predict(text_to_predict)\n",
    "if prediction[0] == 1:\n",
    "    print(\"Prediction: Fraudulent call\")\n",
    "else:\n",
    "    print(\"Prediction: Normal call\")"
   ]
  },
  {
   "cell_type": "code",
   "execution_count": 72,
   "metadata": {
    "id": "X9SpFuU_DnCp"
   },
   "outputs": [],
   "source": [
    "# THE END OF THE MODEL TRAINING PART"
   ]
  },
  {
   "cell_type": "code",
   "execution_count": null,
   "metadata": {},
   "outputs": [],
   "source": []
  }
 ],
 "metadata": {
  "colab": {
   "provenance": []
  },
  "kernelspec": {
   "display_name": "Python 3",
   "language": "python",
   "name": "python3"
  },
  "language_info": {
   "codemirror_mode": {
    "name": "ipython",
    "version": 3
   },
   "file_extension": ".py",
   "mimetype": "text/x-python",
   "name": "python",
   "nbconvert_exporter": "python",
   "pygments_lexer": "ipython3",
   "version": "3.12.5"
  }
 },
 "nbformat": 4,
 "nbformat_minor": 0
}
